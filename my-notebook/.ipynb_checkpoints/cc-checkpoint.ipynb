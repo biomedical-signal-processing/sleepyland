{
 "cells": [
  {
   "cell_type": "code",
   "execution_count": 1,
   "id": "53217a9b-93bf-4d9a-ab34-a009990bd2c4",
   "metadata": {},
   "outputs": [],
   "source": [
    "import lunapi as lp\n"
   ]
  },
  {
   "cell_type": "code",
   "execution_count": null,
   "id": "fa0caa3b-0bc7-4038-81ab-40746d912213",
   "metadata": {},
   "outputs": [],
   "source": []
  }
 ],
 "metadata": {
  "kernelspec": {
   "display_name": "Python 3 (ipykernel)",
   "language": "python",
   "name": "python3"
  },
  "language_info": {
   "codemirror_mode": {
    "name": "ipython",
    "version": 3
   },
   "file_extension": ".py",
   "mimetype": "text/x-python",
   "name": "python",
   "nbconvert_exporter": "python",
   "pygments_lexer": "ipython3",
   "version": "3.11.9"
  }
 },
 "nbformat": 4,
 "nbformat_minor": 5
}
