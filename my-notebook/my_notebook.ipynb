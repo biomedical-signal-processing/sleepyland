{
 "cells": [
  {
   "cell_type": "markdown",
   "id": "664db9ece9a1de0c",
   "metadata": {},
   "source": [
    "# How to Get Started with SleePyLand! 💤\n",
    "\n",
    "Head over to the **tutorial** notebook located in the `sleepyland-notebook` folder to discover how to fully utilize **SleePyLand**. This tutorial covers everything you need to know, including:\n",
    "\n",
    "**SleePyLand Toolbox Overview**  \n",
    "Get a comprehensive breakdown of how the SleePyLand toolbox is structured.\n",
    "\n",
    "**Accessing Services**  \n",
    "Learn how to query and gain access to each service exposed in SleePyLand.\n",
    "\n",
    "**Exploiting Pre-Trained Models**  \n",
    "Maximize the potential of **pre-trained machine learning and deep learning sleep staging models** with hands-on guidance.\n",
    "\n",
    "**Integrating with Luna Toolbox**  \n",
    "Explore how SleePyLand interacts with the **Luna toolbox** for various tasks, creating a seamless experience.\n",
    "\n",
    "---\n",
    "\n",
    "### Steps to Access the **[Tutorial](./../notebook/sleepyland-notebook/tutorial.ipynb)**:\n",
    "1. Navigate to the `sleepyland-notebook` folder.\n",
    "2. Open the notebook named `tutorial.ipynb`.\n",
    "\n",
    "---"
   ]
  },
  {
   "cell_type": "code",
   "execution_count": 2,
   "id": "f030ebedc9449891",
   "metadata": {
    "ExecuteTime": {
     "end_time": "2024-10-14T07:52:15.610754Z",
     "start_time": "2024-10-14T07:52:15.601758Z"
    }
   },
   "outputs": [],
   "source": [
    "import requests"
   ]
  },
  {
   "cell_type": "markdown",
   "id": "aa09e74b-7520-46a2-823a-371bfa252b17",
   "metadata": {},
   "source": [
    "### Request for get channels available for a specific nsrr dataset"
   ]
  },
  {
   "cell_type": "code",
   "execution_count": 3,
   "id": "5f84f9ed-5cf4-4ab1-85ac-b20f6cea77f9",
   "metadata": {},
   "outputs": [
    {
     "name": "stdout",
     "output_type": "stream",
     "text": [
      "Success: {'eeg_channels': ['F3-M2', 'F4-M1', 'C3-M2', 'C4-M1', 'O1-M2', 'O2-M1'], 'eog_channels': ['E1-M2', 'E2-M1'], 'emg_channels': []}\n"
     ]
    }
   ],
   "source": [
    "MANAGER_GET_CHANNELS_URL = \"http://manager-api:8888/get_channels\"\n",
    "\n",
    "dataset = \"abc\"\n",
    "\n",
    "response = requests.post(MANAGER_GET_CHANNELS_URL, params={'dataset': dataset})\n",
    "\n",
    "if response.status_code == 200:\n",
    "    print(\"Success:\", response.json())\n",
    "else:\n",
    "    print(f\"Failed with status code {response.status_code}\")\n"
   ]
  },
  {
   "cell_type": "code",
   "execution_count": 23,
   "id": "7e77ec88-acca-4916-9d62-aa54229e39f3",
   "metadata": {},
   "outputs": [
    {
     "name": "stdout",
     "output_type": "stream",
     "text": [
      "Success: {'eeg_channels': ['F3-M2', 'F4-M1', 'C3-M2', 'C4-M1', 'O1-M2', 'O2-M1'], 'eog_channels': ['E1-M2', 'E2-M1'], 'emg_channels': []}\n"
     ]
    }
   ],
   "source": [
    "U_SLEEP_GET_CHANNELS_URL = \"http://usleepyland:7777/get_channels\"\n",
    "\n",
    "dataset = \"abc\"\n",
    "\n",
    "response = requests.post(U_SLEEP_GET_CHANNELS_URL, params={'dataset': dataset})\n",
    "\n",
    "if response.status_code == 200:\n",
    "    print(\"Success:\", response.json())\n",
    "else:\n",
    "    print(f\"Failed with status code {response.status_code}\")"
   ]
  },
  {
   "cell_type": "markdown",
   "id": "49c36d22-adc7-4793-8853-ce9bdce35671",
   "metadata": {},
   "source": [
    "### Request for download nsrr data"
   ]
  },
  {
   "cell_type": "code",
   "execution_count": 37,
   "id": "3f65b4b4-90c2-4f1e-9e12-69dc4693311e",
   "metadata": {},
   "outputs": [
    {
     "name": "stdout",
     "output_type": "stream",
     "text": [
      "Success: {'message': 'Data downloaded successfully.'}\n"
     ]
    }
   ],
   "source": [
    "MANAGER_DOWNLOAD_DATA_URL = \"http://manager-api:8888/download_data\"\n",
    "\n",
    "token = '4441-sfJAV2Eau9AgyXn6bM9s'\n",
    "datasets = ['abc/polysomnography/edfs/baseline/abc-baseline-900001.edf+abc/polysomnography/annotations-events-nsrr/baseline/abc-baseline-900001-nsrr.xml', 'abc/polysomnography/edfs/baseline/abc-baseline-900002.edf+abc/polysomnography/annotations-events-nsrr/baseline/abc-baseline-900002-nsrr.xml']\n",
    "\n",
    "response = requests.post(MANAGER_DOWNLOAD_DATA_URL, data={'token':token, 'selected_datasets': datasets})\n",
    "\n",
    "if response.status_code == 200:\n",
    "    print(\"Success:\", response.json())\n",
    "else:\n",
    "    print(f\"Failed with status code {response.status_code}\")"
   ]
  },
  {
   "cell_type": "code",
   "execution_count": 35,
   "id": "0141387d-de0b-4826-9f66-d15a868c9cc1",
   "metadata": {},
   "outputs": [
    {
     "name": "stdout",
     "output_type": "stream",
     "text": [
      "Success: {'message': 'Data downloaded successfully.'}\n"
     ]
    }
   ],
   "source": [
    "NSRR_DOWNLOAD_DATA_URL = \"http://nsrr-download:8500/download_data\"\n",
    "\n",
    "token = '4441-sfJAV2Eau9AgyXn6bM9s'\n",
    "datasets = ['abc/polysomnography/edfs/baseline/abc-baseline-900001.edf+abc/polysomnography/annotations-events-nsrr/baseline/abc-baseline-900001-nsrr.xml', 'abc/polysomnography/edfs/baseline/abc-baseline-900002.edf+abc/polysomnography/annotations-events-nsrr/baseline/abc-baseline-900002-nsrr.xml']\n",
    "\n",
    "response = requests.post(NSRR_DOWNLOAD_DATA_URL, data={'token':token, 'selected_datasets': datasets})\n",
    "\n",
    "if response.status_code == 200:\n",
    "    print(\"Success:\", response.json())\n",
    "else:\n",
    "    print(f\"Failed with status code {response.status_code}\")"
   ]
  },
  {
   "cell_type": "code",
   "execution_count": null,
   "id": "ba704fcd-5e74-4e69-b5fa-5945f59aba30",
   "metadata": {},
   "outputs": [],
   "source": []
  },
  {
   "cell_type": "markdown",
   "id": "230e4631-8389-405a-bb63-183bdc255c73",
   "metadata": {},
   "source": [
    "### Request for harmonize the data"
   ]
  },
  {
   "cell_type": "code",
   "execution_count": 36,
   "id": "160e0349-5e0b-4a35-bc79-1337516653cd",
   "metadata": {},
   "outputs": [
    {
     "name": "stdout",
     "output_type": "stream",
     "text": [
      "Success: {'message': 'Data harmonized successfully.'}\n"
     ]
    }
   ],
   "source": [
    "MANAGER_HARMONIZE_URL = \"http://manager-api:8888/harmonize\"\n",
    "\n",
    "dataset = 'abc' \n",
    "\n",
    "response = requests.post(MANAGER_HARMONIZE_URL, data={'dataset':dataset})\n",
    "\n",
    "if response.status_code == 200:\n",
    "    print(\"Success:\", response.json())\n",
    "else:\n",
    "    print(f\"Failed with status code {response.status_code}\")"
   ]
  },
  {
   "cell_type": "code",
   "execution_count": 39,
   "id": "86e7fc80-a634-4818-9318-9403b95dc7bf",
   "metadata": {},
   "outputs": [
    {
     "name": "stdout",
     "output_type": "stream",
     "text": [
      "Success: {'message': 'Files processed successfully', 'files': ['abc-baseline-900001', 'abc-baseline-900002']}\n"
     ]
    }
   ],
   "source": [
    "WTF_HARMONIZE_URL = \"http://wtf:6666/harmonize\"\n",
    "\n",
    "dataset = 'abc'\n",
    "\n",
    "folder_name = 'abc-baseline-900001'\n",
    "\n",
    "response = requests.post(WTF_HARMONIZE_URL, data={'folder_name': folder_name, 'dataset': dataset})\n",
    "\n",
    "if response.status_code == 200:\n",
    "    print(\"Success:\", response.json())\n",
    "else:\n",
    "    print(f\"Failed with status code {response.status_code}\")\n",
    "\n",
    "folder_name = 'abc-baseline-900002'\n",
    "\n",
    "response = requests.post(WTF_HARMONIZE_URL, data={'folder_name': folder_name, 'dataset': dataset})\n",
    "\n",
    "if response.status_code == 200:\n",
    "    print(\"Success:\", response.json())\n",
    "else:\n",
    "    print(f\"Failed with status code {response.status_code}\")"
   ]
  },
  {
   "cell_type": "code",
   "execution_count": null,
   "id": "a91aea49-c6fe-451c-af5c-734995af314f",
   "metadata": {},
   "outputs": [],
   "source": []
  },
  {
   "cell_type": "markdown",
   "id": "8ae280ad-bcc6-448d-91c5-283f3ddadf14",
   "metadata": {},
   "source": [
    "### Request for predict"
   ]
  },
  {
   "cell_type": "code",
   "execution_count": 22,
   "id": "e8ead2d5-53ad-4d59-87fe-82a757380911",
   "metadata": {},
   "outputs": [
    {
     "name": "stdout",
     "output_type": "stream",
     "text": [
      "Success: {'message': 'Prediction completed successfully.'}\n"
     ]
    }
   ],
   "source": [
    "MANAGER_PREDICT_URL = \"http://manager-api:8888/predict\"\n",
    "\n",
    "folder_root_name = 'abc'\n",
    "output_folder_name = 'output_abc'\n",
    "eeg_channels = ['F3-M2,F4-M1,C3-M2,C4-M1,O1-M2,O2-M1']\n",
    "eog_channels = ['E1-M2,E2-M1']\n",
    "emg_channels = ['']\n",
    "dataset= 'abc'\n",
    "\n",
    "response = requests.post(MANAGER_PREDICT_URL, data={'folder_root_name':folder_root_name, 'folder_name':output_folder_name, 'eeg_channels':eeg_channels, 'eog_channels':eog_channels, 'emg_channels':emg_channels, 'dataset':dataset})\n",
    "\n",
    "if response.status_code == 200:\n",
    "    print(\"Success:\", response.json())\n",
    "else:\n",
    "    print(f\"Failed with status code {response.status_code}\")"
   ]
  },
  {
   "cell_type": "code",
   "execution_count": 27,
   "id": "d27ee3bb-9756-490a-bd7e-f565c4f796e6",
   "metadata": {},
   "outputs": [
    {
     "name": "stdout",
     "output_type": "stream",
     "text": [
      "Success: {'message': 'Prediction completed successfully.'}\n"
     ]
    }
   ],
   "source": [
    "U_SLEEP_PREDICT_URL = \"http://usleepyland:7777/predict\"\n",
    "\n",
    "folder_root_name = 'abc'\n",
    "output_folder_name = 'output_abc'\n",
    "eeg_channels = ['F3-M2,F4-M1,C3-M2,C4-M1,O1-M2,O2-M1']\n",
    "eog_channels = ['E1-M2,E2-M1']\n",
    "emg_channels = ['']\n",
    "dataset= 'abc'\n",
    "\n",
    "response = requests.post(U_SLEEP_PREDICT_URL, data={'folder_root_name':folder_root_name, 'folder_name':output_folder_name, 'eeg_channels':eeg_channels, 'eog_channels':eog_channels, 'emg_channels':emg_channels, 'dataset':dataset})\n",
    "\n",
    "if response.status_code == 200:\n",
    "    print(\"Success:\", response.json())\n",
    "else:\n",
    "    print(f\"Failed with status code {response.status_code}\")"
   ]
  },
  {
   "cell_type": "code",
   "execution_count": null,
   "id": "87d4f2a0-78f0-4b7d-99ad-40f66754391b",
   "metadata": {},
   "outputs": [],
   "source": []
  },
  {
   "cell_type": "markdown",
   "id": "2e4b400b-2223-43a3-b17f-6f5a670f62cb",
   "metadata": {},
   "source": [
    "### Request for harmonize and predict"
   ]
  },
  {
   "cell_type": "code",
   "execution_count": null,
   "id": "071d3436-b85e-4f1c-80a9-72ee1a90e7f8",
   "metadata": {},
   "outputs": [],
   "source": [
    "MANAGER_AUTO_PREDICT_URL = \"http://manager-api:8888/auto_predict\"\n",
    "\n",
    "folder_root_name = 'abc'\n",
    "output_folder_name = 'output_abc'\n",
    "eeg_channels = ['F3-M2,F4-M1,C3-M2,C4-M1,O1-M2,O2-M1']\n",
    "eog_channels = ['E1-M2,E2-M1']\n",
    "emg_channels = ['']\n",
    "dataset= 'abc'\n",
    "\n",
    "response = requests.post(MANAGER_AUTO_PREDICT_URL, data={'folder_root_name':folder_root_name, 'folder_name':output_folder_name, 'eeg_channels':eeg_channels, 'eog_channels':eog_channels, 'emg_channels':emg_channels, 'dataset':dataset})\n",
    "\n",
    "if response.status_code == 200:\n",
    "    print(\"Success:\", response.json())\n",
    "else:\n",
    "    print(f\"Failed with status code {response.status_code}\")"
   ]
  },
  {
   "cell_type": "code",
   "execution_count": null,
   "id": "42e63257-32af-4e7a-a99c-c302db23f1a6",
   "metadata": {},
   "outputs": [],
   "source": []
  }
 ],
 "metadata": {
  "kernelspec": {
   "display_name": "Python 3 (ipykernel)",
   "language": "python",
   "name": "python3"
  },
  "language_info": {
   "codemirror_mode": {
    "name": "ipython",
    "version": 3
   },
   "file_extension": ".py",
   "mimetype": "text/x-python",
   "name": "python",
   "nbconvert_exporter": "python",
   "pygments_lexer": "ipython3",
   "version": "3.11.10"
  }
 },
 "nbformat": 4,
 "nbformat_minor": 5
}
