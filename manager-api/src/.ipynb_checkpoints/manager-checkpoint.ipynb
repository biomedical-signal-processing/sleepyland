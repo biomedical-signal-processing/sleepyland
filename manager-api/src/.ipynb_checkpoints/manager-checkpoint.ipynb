{
 "cells": [
  {
   "cell_type": "code",
   "execution_count": 3,
   "id": "3b22d082-9d22-4000-8da7-5402046ee213",
   "metadata": {},
   "outputs": [],
   "source": [
    "def revert_file(content):\n",
    "  \"\"\"Reverses the content of a string.\"\"\"\n",
    "  return content[::-1]"
   ]
  }
 ],
 "metadata": {
  "kernelspec": {
   "display_name": "Python 3 (ipykernel)",
   "language": "python",
   "name": "python3"
  },
  "language_info": {
   "codemirror_mode": {
    "name": "ipython",
    "version": 3
   },
   "file_extension": ".py",
   "mimetype": "text/x-python",
   "name": "python",
   "nbconvert_exporter": "python",
   "pygments_lexer": "ipython3",
   "version": "3.11.6"
  }
 },
 "nbformat": 4,
 "nbformat_minor": 5
}
